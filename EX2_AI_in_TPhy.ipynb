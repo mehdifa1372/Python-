{
  "nbformat": 4,
  "nbformat_minor": 0,
  "metadata": {
    "colab": {
      "provenance": [],
      "authorship_tag": "ABX9TyMTkTJJTTwIaLCJaIb3ZmEk"
    },
    "kernelspec": {
      "name": "python3",
      "display_name": "Python 3"
    },
    "language_info": {
      "name": "python"
    }
  },
  "cells": [
    {
      "cell_type": "markdown",
      "source": [
        "# **EX 2 **"
      ],
      "metadata": {
        "id": "gmKH5YhKR9k_"
      }
    },
    {
      "cell_type": "markdown",
      "source": [
        "# **Q1**\n"
      ],
      "metadata": {
        "id": "sDDUkJeMSn_v"
      }
    },
    {
      "cell_type": "markdown",
      "source": [
        "P(A∩B)=P(A)×P(B)"
      ],
      "metadata": {
        "id": "MuT8iEKZ4YP3"
      }
    },
    {
      "cell_type": "code",
      "source": [
        "# Define the sample space\n",
        "sample_space = {1, 2, 3, 4, 5, 6}\n",
        "\n",
        "# Define events A and B\n",
        "event_A = {1, 3, 4}\n",
        "event_B = {1, 5}\n",
        "\n",
        "# Calculate probabilities\n",
        "P_A = len(event_A) / len(sample_space)\n",
        "P_B = len(event_B) / len(sample_space)\n",
        "intersection = event_A.intersection(event_B)\n",
        "P_A_and_B = len(intersection) / len(sample_space)\n",
        "\n",
        "# Calculate the product of P(A) and P(B)\n",
        "P_A_times_P_B = P_A * P_B\n",
        "\n",
        "# Check for independence\n",
        "independent = P_A_and_B == P_A_times_P_B\n",
        "\n",
        "# Print results\n",
        "print(f\"P(A) = {P_A}\")\n",
        "print(f\"P(B) = {P_B}\")\n",
        "print(f\"P(A and B) = {P_A_and_B}\")\n",
        "print(f\"P(A) * P(B) = {P_A_times_P_B}\")\n",
        "print(f\"Events A and B are independent: {independent}\")\n"
      ],
      "metadata": {
        "id": "98lcR0NCSKAQ",
        "colab": {
          "base_uri": "https://localhost:8080/"
        },
        "outputId": "33152b1a-31fe-41ce-8646-4f5b00395e1c"
      },
      "execution_count": 1,
      "outputs": [
        {
          "output_type": "stream",
          "name": "stdout",
          "text": [
            "P(A) = 0.5\n",
            "P(B) = 0.3333333333333333\n",
            "P(A and B) = 0.16666666666666666\n",
            "P(A) * P(B) = 0.16666666666666666\n",
            "Events A and B are independent: True\n"
          ]
        }
      ]
    },
    {
      "cell_type": "markdown",
      "source": [
        "# **Q2**\n"
      ],
      "metadata": {
        "id": "IZk6p5aOJxxS"
      }
    },
    {
      "cell_type": "markdown",
      "source": [
        "Variables (events) A and B are independent when the occurrence of one does not affect the probability of the occurrence of the other. Mathematically, this means:\n",
        "\n",
        "\n",
        "P(A∩B)=P(A)×P(B)"
      ],
      "metadata": {
        "id": "GJfAUtlpJ7v7"
      }
    },
    {
      "cell_type": "code",
      "source": [],
      "metadata": {
        "id": "6-CV2RZ8SsuZ"
      },
      "execution_count": null,
      "outputs": []
    },
    {
      "cell_type": "markdown",
      "source": [
        "# **Q3**"
      ],
      "metadata": {
        "id": "nnZ4J8jIKIlS"
      }
    },
    {
      "cell_type": "code",
      "source": [
        "import matplotlib.pyplot as plt\n",
        "import numpy as np\n",
        "\n",
        "def intersection_area(x1, y1, x2, y2, r):\n",
        "    d = np.sqrt((x2 - x1)**2 + (y2 - y1)**2)\n",
        "    if d >= 2 * r:\n",
        "        return 0  # No overlap\n",
        "    elif d == 0:\n",
        "        return np.pi * r**2  # Completely overlapping\n",
        "    else:\n",
        "        return (2 * r**2 * np.arccos(d / (2 * r)) - (d / 2) * np.sqrt(4 * r**2 - d**2))\n",
        "\n",
        "def check_independence(center_a, center_b, radius, total_area):\n",
        "    intersection = intersection_area(center_a[0], center_a[1], center_b[0], center_b[1], radius)\n",
        "    # Assuming the circle areas represent their probabilities:\n",
        "    prob_a = np.pi * radius**2 / total_area\n",
        "    prob_b = np.pi * radius**2 / total_area\n",
        "    expected_intersection = prob_a * prob_b * total_area\n",
        "    print(f\"Expected Intersection for Independence: {expected_intersection:.4f}\")\n",
        "    print(f\"Actual Intersection: {intersection:.4f}\")\n",
        "    return np.isclose(intersection, expected_intersection)\n",
        "\n",
        "# Setting up the figure and axis\n",
        "fig, ax = plt.subplots(figsize=(6, 6))\n",
        "rectangle = plt.Rectangle((0, 0), 1, 1, ec='black', fc='none')  # Sample space\n",
        "ax.add_patch(rectangle)\n",
        "\n",
        "# Specifying the sample space area and radius of the circles\n",
        "total_area = 1  # Area of the sample space (1x1 square)\n",
        "radius = 0.2  # Smaller radius to manage overlap\n",
        "\n",
        "# Calculate the centers to ensure expected intersection matches independence criteria\n",
        "distance = 2 * radius * np.cos(np.pi / 4)  # Calculated for the circles to touch at one point\n",
        "center_a = (0.5 - distance / 2, 0.5)\n",
        "center_b = (0.5 + distance / 2, 0.5)\n",
        "\n",
        "# Adding circles to the plot\n",
        "circle_a = plt.Circle(center_a, radius, color='blue', alpha=0.5, label='Event A')\n",
        "circle_b = plt.Circle(center_b, radius, color='red', alpha=0.5, label='Event B')\n",
        "ax.add_patch(circle_a)\n",
        "ax.add_patch(circle_b)\n",
        "\n",
        "# Check if the placement meets the criteria for independence\n",
        "independent = check_independence(center_a, center_b, radius, total_area)\n",
        "print(\"Are the events independent based on their intersection area?\", \"Yes\" if independent else \"No\")\n",
        "\n",
        "# Set limits and labels\n",
        "ax.set_xlim(0, 1)\n",
        "ax.set_ylim(0, 1)\n",
        "ax.set_aspect('equal', adjustable='datalim')\n",
        "plt.legend()\n",
        "\n",
        "# Show plot\n",
        "plt.title('Venn Diagram for Events A and B with Independence Check')\n",
        "plt.show()\n"
      ],
      "metadata": {
        "colab": {
          "base_uri": "https://localhost:8080/",
          "height": 599
        },
        "id": "W8QirM5KU4gJ",
        "outputId": "3348dfd8-31db-46a4-f999-4538bbb6da1a"
      },
      "execution_count": 46,
      "outputs": [
        {
          "output_type": "stream",
          "name": "stdout",
          "text": [
            "Expected Intersection for Independence: 0.0158\n",
            "Actual Intersection: 0.0228\n",
            "Are the events independent based on their intersection area? No\n"
          ]
        },
        {
          "output_type": "display_data",
          "data": {
            "text/plain": [
              "<Figure size 600x600 with 1 Axes>"
            ],
            "image/png": "[encoded data removed]"
          },
          "metadata": {}
        }
      ]
    },
    {
      "cell_type": "code",
      "source": [
        "import matplotlib.pyplot as plt\n",
        "import matplotlib.patches as patches\n",
        "import numpy as np\n",
        "\n",
        "def calculate_square_intersection(d, side):\n",
        "    \"\"\"Calculate the intersection area of two squares based on distance and side length.\"\"\"\n",
        "    if d >= side:\n",
        "        return 0  # No overlap\n",
        "    elif d <= 0:\n",
        "        return side * side  # Completely overlapping\n",
        "    else:\n",
        "        # Intersection area when squares overlap by 'd'\n",
        "        overlap = side - d\n",
        "        return overlap * overlap\n",
        "\n",
        "# Settings for the diagram and squares\n",
        "side_length = 0.3  # Side length of the squares\n",
        "total_area = 1  # Area of the 1x1 square (unit area)\n",
        "prob_a = prob_b = (side_length * side_length) / total_area  # Probability of each event\n",
        "expected_intersection = prob_a * prob_b * total_area  # Expected intersection for independence\n",
        "\n",
        "# Calculate distance d that will produce the expected intersection area\n",
        "d = side_length / 2  # Initial guess: half overlapping\n",
        "step = 0.01  # Increment for adjusting distance\n",
        "for _ in range(100):  # Limit iterations to prevent infinite loops\n",
        "    actual_intersection = calculate_square_intersection(d, side_length)\n",
        "    if np.isclose(actual_intersection, expected_intersection, atol=1e-4):\n",
        "        break\n",
        "    elif actual_intersection < expected_intersection:\n",
        "        d -= step\n",
        "    else:\n",
        "        d += step\n",
        "\n",
        "# Coordinates of lower left corners based on calculated distance d\n",
        "center_a = (0.5 - d, 0.5 - side_length / 2)\n",
        "center_b = (0.5, 0.5 - side_length / 2)\n",
        "\n",
        "# Create plot\n",
        "fig, ax = plt.subplots(figsize=(6, 6))\n",
        "rectangle = patches.Rectangle((0, 0), 1, 1, ec='black', fc='none')  # Sample space\n",
        "ax.add_patch(rectangle)\n",
        "square_a = patches.Rectangle(center_a, side_length, side_length, color='blue', alpha=0.5, label='Event A')\n",
        "square_b = patches.Rectangle(center_b, side_length, side_length, color='red', alpha=0.5, label='Event B')\n",
        "ax.add_patch(square_a)\n",
        "ax.add_patch(square_b)\n",
        "\n",
        "# Display results\n",
        "print(f\"Calculated distance (d) between centers: {d:.4f}\")\n",
        "print(f\"Expected Intersection Area: {expected_intersection:.4f}\")\n",
        "print(f\"Actual Intersection Area: {actual_intersection:.4f}\")\n",
        "\n",
        "# Determine independence based on the expected and actual intersection areas\n",
        "if np.isclose(actual_intersection, expected_intersection, atol=1e-4):\n",
        "    print(\"Events are Independent based on the intersection area.\")\n",
        "else:\n",
        "    print(\"Events are Not Independent based on the intersection area.\")\n",
        "\n",
        "# Set plot properties\n",
        "ax.set_xlim(0, 1)\n",
        "ax.set_ylim(0, 1)\n",
        "ax.set_aspect('equal', adjustable='datalim')\n",
        "plt.legend()\n",
        "plt.title('Venn Diagram for Events A and B Ensuring Independence')\n",
        "plt.show()\n"
      ],
      "metadata": {
        "colab": {
          "base_uri": "https://localhost:8080/",
          "height": 618
        },
        "id": "etzhGn8v58HI",
        "outputId": "08eef0ae-9307-43d1-ba9e-5892ef46e8f4"
      },
      "execution_count": 3,
      "outputs": [
        {
          "output_type": "stream",
          "name": "stdout",
          "text": [
            "Calculated distance (d) between centers: 0.2100\n",
            "Expected Intersection Area: 0.0081\n",
            "Actual Intersection Area: 0.0081\n",
            "Events are Independent based on the intersection area.\n"
          ]
        },
        {
          "output_type": "display_data",
          "data": {
            "text/plain": [
              "<Figure size 600x600 with 1 Axes>"
            ],
            "image/png": "[encoded data removed]"
          },
          "metadata": {}
        }
      ]
    },
    {
      "cell_type": "markdown",
      "source": [
        "# **Q4**"
      ],
      "metadata": {
        "id": "ed7FlmncYK6W"
      }
    },
    {
      "cell_type": "code",
      "source": [
        "import numpy as np\n",
        "\n",
        "def simulate_game_show(trials):\n",
        "    wins_with_switch = 0\n",
        "    wins_without_switch = 0\n",
        "\n",
        "    for _ in range(trials):\n",
        "        # The goat is behind one of the six doors\n",
        "        goat_door = np.random.randint(0, 6)\n",
        "        # Player makes an initial choice\n",
        "        initial_choice = np.random.randint(0, 6)\n",
        "\n",
        "        # Host opens four doors, excluding the initially chosen door and the goat door\n",
        "        remaining_doors = list(set(range(6)) - {initial_choice, goat_door})\n",
        "        if len(remaining_doors) > 1:\n",
        "            opened_doors = np.random.choice(remaining_doors, 4, replace=False)\n",
        "        else:\n",
        "            opened_doors = remaining_doors  # In case the initial choice was the goat door\n",
        "\n",
        "        # The unopened door, besides the initially chosen one\n",
        "        unopened_door = list(set(range(6)) - {initial_choice} - set(opened_doors))[0]\n",
        "\n",
        "        # Determine wins\n",
        "        if initial_choice == goat_door:\n",
        "            wins_without_switch += 1\n",
        "        if unopened_door == goat_door:\n",
        "            wins_with_switch += 1\n",
        "\n",
        "    return wins_with_switch, wins_without_switch\n",
        "\n",
        "# Number of trials\n",
        "num_trials = 10000\n",
        "switch_wins, stick_wins = simulate_game_show(num_trials)\n",
        "\n",
        "# Calculating probabilities\n",
        "prob_switch = switch_wins / num_trials\n",
        "prob_stick = stick_wins / num_trials\n",
        "\n",
        "# Display the results\n",
        "print(f\"After {num_trials} trials:\")\n",
        "print(f\"Probability of winning by switching: {prob_switch:.2%}\")\n",
        "print(f\"Probability of winning by sticking with the initial choice: {prob_stick:.2%}\")\n"
      ],
      "metadata": {
        "colab": {
          "base_uri": "https://localhost:8080/"
        },
        "id": "OoHWWWkFZARV",
        "outputId": "9fbaee3f-d3f5-4744-819e-75786c9dd5b4"
      },
      "execution_count": 8,
      "outputs": [
        {
          "output_type": "stream",
          "name": "stdout",
          "text": [
            "After 10000 trials:\n",
            "Probability of winning by switching: 83.94%\n",
            "Probability of winning by sticking with the initial choice: 16.06%\n"
          ]
        }
      ]
    },
    {
      "cell_type": "code",
      "source": [
        "# Import CuPy instead of NumPy\n",
        "!pip install cupy-cuda112\n",
        "import cupy as cp\n",
        "\n",
        "def simulate_game_show(trials):\n",
        "    wins_with_switch = 0\n",
        "    wins_without_switch = 0\n",
        "\n",
        "    for _ in range(trials):\n",
        "        # The goat is behind one of the six doors\n",
        "        goat_door = cp.random.randint(0, 6)\n",
        "        # Player makes an initial choice\n",
        "        initial_choice = cp.random.randint(0, 6)\n",
        "\n",
        "        # Host opens four doors, excluding the initially chosen door and the goat door\n",
        "        remaining_doors = list(set(cp.asnumpy(cp.arange(6))) - {initial_choice, goat_door})\n",
        "        if len(remaining_doors) > 1:\n",
        "            opened_doors = cp.random.choice(remaining_doors, 4, replace=False)\n",
        "        else:\n",
        "            opened_doors = remaining_doors  # In case the initial choice was the goat door\n",
        "\n",
        "        # The unopened door, besides the initially chosen one\n",
        "        unopened_door = list(set(cp.asnumpy(cp.arange(6))) - {initial_choice} - set(opened_doors))[0]\n",
        "\n",
        "        # Determine wins\n",
        "        if initial_choice == goat_door:\n",
        "            wins_without_switch += 1\n",
        "        if unopened_door == goat_door:\n",
        "            wins_with_switch += 1\n",
        "\n",
        "    return wins_with_switch, wins_without_switch\n",
        "\n",
        "# Number of trials\n",
        "num_trials = 10000\n",
        "switch_wins, stick_wins = simulate_game_show(num_trials)\n",
        "\n",
        "# Calculating probabilities\n",
        "prob_switch = switch_wins / num_trials\n",
        "prob_stick = stick_wins / num_trials\n",
        "\n",
        "# Display the results\n",
        "print(f\"After {num_trials} trials:\")\n",
        "print(f\"Probability of winning by switching: {prob_switch:.2%}\")\n",
        "print(f\"Probability of winning by sticking with the initial choice: {prob_stick:.2%}\")\n"
      ],
      "metadata": {
        "colab": {
          "base_uri": "https://localhost:8080/",
          "height": 796
        },
        "id": "iA9zTyfzEma_",
        "outputId": "86c33451-d62d-4c0e-830a-9cf68caf7a3b"
      },
      "execution_count": 13,
      "outputs": [
        {
          "output_type": "stream",
          "name": "stdout",
          "text": [
            "Collecting cupy-cuda112\n",
            "  Downloading cupy_cuda112-10.6.0-cp310-cp310-manylinux1_x86_64.whl.metadata (2.6 kB)\n",
            "Collecting numpy<1.25,>=1.18 (from cupy-cuda112)\n",
            "  Downloading numpy-1.24.4-cp310-cp310-manylinux_2_17_x86_64.manylinux2014_x86_64.whl.metadata (5.6 kB)\n",
            "Requirement already satisfied: fastrlock>=0.5 in /usr/local/lib/python3.10/dist-packages (from cupy-cuda112) (0.8.2)\n",
            "Downloading cupy_cuda112-10.6.0-cp310-cp310-manylinux1_x86_64.whl (79.1 MB)\n",
            "\u001b[2K   \u001b[90m━━━━━━━━━━━━━━━━━━━━━━━━━━━━━━━━━━━━━━━━\u001b[0m \u001b[32m79.1/79.1 MB\u001b[0m \u001b[31m2.8 MB/s\u001b[0m eta \u001b[36m0:00:00\u001b[0m\n",
            "\u001b[?25hDownloading numpy-1.24.4-cp310-cp310-manylinux_2_17_x86_64.manylinux2014_x86_64.whl (17.3 MB)\n",
            "\u001b[2K   \u001b[90m━━━━━━━━━━━━━━━━━━━━━━━━━━━━━━━━━━━━━━━━\u001b[0m \u001b[32m17.3/17.3 MB\u001b[0m \u001b[31m74.2 MB/s\u001b[0m eta \u001b[36m0:00:00\u001b[0m\n",
            "\u001b[?25hInstalling collected packages: numpy, cupy-cuda112\n",
            "  Attempting uninstall: numpy\n",
            "    Found existing installation: numpy 1.26.4\n",
            "    Uninstalling numpy-1.26.4:\n",
            "      Successfully uninstalled numpy-1.26.4\n",
            "\u001b[31mERROR: pip's dependency resolver does not currently take into account all the packages that are installed. This behaviour is the source of the following dependency conflicts.\n",
            "pandas-stubs 2.1.4.231227 requires numpy>=1.26.0; python_version < \"3.13\", but you have numpy 1.24.4 which is incompatible.\u001b[0m\u001b[31m\n",
            "\u001b[0mSuccessfully installed cupy-cuda112-10.6.0 numpy-1.24.4\n"
          ]
        },
        {
          "output_type": "display_data",
          "data": {
            "application/vnd.colab-display-data+json": {
              "pip_warning": {
                "packages": [
                  "cupy",
                  "cupy_backends",
                  "cupyx",
                  "numpy"
                ]
              },
              "id": "2a47bba5698e446b8b33939c3afba174"
            }
          },
          "metadata": {}
        },
        {
          "output_type": "error",
          "ename": "CUDARuntimeError",
          "evalue": "cudaErrorInsufficientDriver: CUDA driver version is insufficient for CUDA runtime version",
          "traceback": [
            "\u001b[0;31m---------------------------------------------------------------------------\u001b[0m",
            "\u001b[0;31mCUDARuntimeError\u001b[0m                          Traceback (most recent call last)",
            "\u001b[0;32m<ipython-input-13-f706aec06e19>\u001b[0m in \u001b[0;36m<cell line: 35>\u001b[0;34m()\u001b[0m\n\u001b[1;32m     33\u001b[0m \u001b[0;31m# Number of trials\u001b[0m\u001b[0;34m\u001b[0m\u001b[0;34m\u001b[0m\u001b[0m\n\u001b[1;32m     34\u001b[0m \u001b[0mnum_trials\u001b[0m \u001b[0;34m=\u001b[0m \u001b[0;36m10000\u001b[0m\u001b[0;34m\u001b[0m\u001b[0;34m\u001b[0m\u001b[0m\n\u001b[0;32m---> 35\u001b[0;31m \u001b[0mswitch_wins\u001b[0m\u001b[0;34m,\u001b[0m \u001b[0mstick_wins\u001b[0m \u001b[0;34m=\u001b[0m \u001b[0msimulate_game_show\u001b[0m\u001b[0;34m(\u001b[0m\u001b[0mnum_trials\u001b[0m\u001b[0;34m)\u001b[0m\u001b[0;34m\u001b[0m\u001b[0;34m\u001b[0m\u001b[0m\n\u001b[0m\u001b[1;32m     36\u001b[0m \u001b[0;34m\u001b[0m\u001b[0m\n\u001b[1;32m     37\u001b[0m \u001b[0;31m# Calculating probabilities\u001b[0m\u001b[0;34m\u001b[0m\u001b[0;34m\u001b[0m\u001b[0m\n",
            "\u001b[0;32m<ipython-input-13-f706aec06e19>\u001b[0m in \u001b[0;36msimulate_game_show\u001b[0;34m(trials)\u001b[0m\n\u001b[1;32m      9\u001b[0m     \u001b[0;32mfor\u001b[0m \u001b[0m_\u001b[0m \u001b[0;32min\u001b[0m \u001b[0mrange\u001b[0m\u001b[0;34m(\u001b[0m\u001b[0mtrials\u001b[0m\u001b[0;34m)\u001b[0m\u001b[0;34m:\u001b[0m\u001b[0;34m\u001b[0m\u001b[0;34m\u001b[0m\u001b[0m\n\u001b[1;32m     10\u001b[0m         \u001b[0;31m# The goat is behind one of the six doors\u001b[0m\u001b[0;34m\u001b[0m\u001b[0;34m\u001b[0m\u001b[0m\n\u001b[0;32m---> 11\u001b[0;31m         \u001b[0mgoat_door\u001b[0m \u001b[0;34m=\u001b[0m \u001b[0mcp\u001b[0m\u001b[0;34m.\u001b[0m\u001b[0mrandom\u001b[0m\u001b[0;34m.\u001b[0m\u001b[0mrandint\u001b[0m\u001b[0;34m(\u001b[0m\u001b[0;36m0\u001b[0m\u001b[0;34m,\u001b[0m \u001b[0;36m6\u001b[0m\u001b[0;34m)\u001b[0m\u001b[0;34m\u001b[0m\u001b[0;34m\u001b[0m\u001b[0m\n\u001b[0m\u001b[1;32m     12\u001b[0m         \u001b[0;31m# Player makes an initial choice\u001b[0m\u001b[0;34m\u001b[0m\u001b[0;34m\u001b[0m\u001b[0m\n\u001b[1;32m     13\u001b[0m         \u001b[0minitial_choice\u001b[0m \u001b[0;34m=\u001b[0m \u001b[0mcp\u001b[0m\u001b[0;34m.\u001b[0m\u001b[0mrandom\u001b[0m\u001b[0;34m.\u001b[0m\u001b[0mrandint\u001b[0m\u001b[0;34m(\u001b[0m\u001b[0;36m0\u001b[0m\u001b[0;34m,\u001b[0m \u001b[0;36m6\u001b[0m\u001b[0;34m)\u001b[0m\u001b[0;34m\u001b[0m\u001b[0;34m\u001b[0m\u001b[0m\n",
            "\u001b[0;32m/usr/local/lib/python3.10/dist-packages/cupy/random/_sample.py\u001b[0m in \u001b[0;36mrandint\u001b[0;34m(low, high, size, dtype)\u001b[0m\n\u001b[1;32m    107\u001b[0m         \u001b[0mOtherwise\u001b[0m\u001b[0;34m,\u001b[0m \u001b[0mit\u001b[0m \u001b[0;32mis\u001b[0m \u001b[0mthe\u001b[0m \u001b[0marray\u001b[0m \u001b[0mwhose\u001b[0m \u001b[0mshape\u001b[0m \u001b[0mspecified\u001b[0m \u001b[0mby\u001b[0m\u001b[0;31m \u001b[0m\u001b[0;31m`\u001b[0m\u001b[0;31m`\u001b[0m\u001b[0msize\u001b[0m\u001b[0;31m`\u001b[0m\u001b[0;31m`\u001b[0m\u001b[0;34m.\u001b[0m\u001b[0;34m\u001b[0m\u001b[0;34m\u001b[0m\u001b[0m\n\u001b[1;32m    108\u001b[0m     \"\"\"\n\u001b[0;32m--> 109\u001b[0;31m     \u001b[0mrs\u001b[0m \u001b[0;34m=\u001b[0m \u001b[0m_generator\u001b[0m\u001b[0;34m.\u001b[0m\u001b[0mget_random_state\u001b[0m\u001b[0;34m(\u001b[0m\u001b[0;34m)\u001b[0m\u001b[0;34m\u001b[0m\u001b[0;34m\u001b[0m\u001b[0m\n\u001b[0m\u001b[1;32m    110\u001b[0m     \u001b[0;32mreturn\u001b[0m \u001b[0mrs\u001b[0m\u001b[0;34m.\u001b[0m\u001b[0mrandint\u001b[0m\u001b[0;34m(\u001b[0m\u001b[0mlow\u001b[0m\u001b[0;34m,\u001b[0m \u001b[0mhigh\u001b[0m\u001b[0;34m,\u001b[0m \u001b[0msize\u001b[0m\u001b[0;34m,\u001b[0m \u001b[0mdtype\u001b[0m\u001b[0;34m)\u001b[0m\u001b[0;34m\u001b[0m\u001b[0;34m\u001b[0m\u001b[0m\n\u001b[1;32m    111\u001b[0m \u001b[0;34m\u001b[0m\u001b[0m\n",
            "\u001b[0;32m/usr/local/lib/python3.10/dist-packages/cupy/random/_generator.py\u001b[0m in \u001b[0;36mget_random_state\u001b[0;34m()\u001b[0m\n",
            "\u001b[0;32mcupy/cuda/device.pyx\u001b[0m in \u001b[0;36mcupy.cuda.device.Device.__init__\u001b[0;34m()\u001b[0m\n",
            "\u001b[0;32mcupy_backends/cuda/api/runtime.pyx\u001b[0m in \u001b[0;36mcupy_backends.cuda.api.runtime.getDevice\u001b[0;34m()\u001b[0m\n",
            "\u001b[0;32mcupy_backends/cuda/api/runtime.pyx\u001b[0m in \u001b[0;36mcupy_backends.cuda.api.runtime.check_status\u001b[0;34m()\u001b[0m\n",
            "\u001b[0;31mCUDARuntimeError\u001b[0m: cudaErrorInsufficientDriver: CUDA driver version is insufficient for CUDA runtime version"
          ]
        }
      ]
    },
    {
      "cell_type": "markdown",
      "source": [
        "# **Q 2.1**"
      ],
      "metadata": {
        "id": "7eVQ89brapTz"
      }
    },
    {
      "cell_type": "markdown",
      "source": [
        "1, f(x)=exp(kx)\n",
        "\n",
        "2, f(x)=logk(x)\n",
        ""
      ],
      "metadata": {
        "id": "tpmsFW9AmlJ2"
      }
    },
    {
      "cell_type": "code",
      "source": [],
      "metadata": {
        "id": "Kd4wQ6WYau5j"
      },
      "execution_count": null,
      "outputs": []
    },
    {
      "cell_type": "markdown",
      "source": [
        "# **Q 2.2**"
      ],
      "metadata": {
        "id": "uL1s-15pdx_0"
      }
    },
    {
      "cell_type": "code",
      "source": [
        "import numpy as np\n",
        "\n",
        "def calculate_entropy(p):\n",
        "    \"\"\"Calculate the entropy of a probability distribution.\"\"\"\n",
        "    # Calculate the entropy using base 2 logarithm for bits\n",
        "    entropy = -np.sum(p * np.log2(p))\n",
        "    return entropy\n",
        "\n",
        "def convert_bits_to_trits(bits):\n",
        "    \"\"\"Convert entropy from bits to trits.\"\"\"\n",
        "    # Using the change of base formula for logarithms\n",
        "    log2_of_3 = np.log2(3)\n",
        "    trits = bits / log2_of_3\n",
        "    return trits\n",
        "\n",
        "# Probability distribution for a fair six-sided die\n",
        "probabilities = np.array([1/6] * 6)  # Uniform distribution\n",
        "\n",
        "# Calculate the entropy in bits\n",
        "entropy_bits = calculate_entropy(probabilities)\n",
        "print(f\"Entropy in bits: {entropy_bits:.4f} bits\")\n",
        "\n",
        "# Convert the entropy from bits to trits\n",
        "entropy_trits = convert_bits_to_trits(entropy_bits)\n",
        "print(f\"Entropy in trits: {entropy_trits:.4f} trits\")\n"
      ],
      "metadata": {
        "colab": {
          "base_uri": "https://localhost:8080/"
        },
        "id": "04AD2lp3d1n6",
        "outputId": "f207cda5-f6ba-4ae9-a919-f4d3bfb9d070"
      },
      "execution_count": 44,
      "outputs": [
        {
          "output_type": "stream",
          "name": "stdout",
          "text": [
            "Entropy in bits: 2.5850 bits\n",
            "Entropy in trits: 1.6309 trits\n"
          ]
        }
      ]
    }
  ]
}